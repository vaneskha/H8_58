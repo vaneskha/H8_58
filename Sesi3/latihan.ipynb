{
 "cells": [
  {
   "cell_type": "code",
   "execution_count": 7,
   "id": "c9415197",
   "metadata": {},
   "outputs": [
    {
     "data": {
      "text/plain": [
       "10"
      ]
     },
     "execution_count": 7,
     "metadata": {},
     "output_type": "execute_result"
    }
   ],
   "source": [
    "newlist = [1,2,3,4]\n",
    "def sum(angka):\n",
    "    hasil =0\n",
    "    for i in angka:\n",
    "        hasil = hasil + i\n",
    "    return hasil;\n",
    "\n",
    "sum(newlist)\n"
   ]
  },
  {
   "cell_type": "code",
   "execution_count": 15,
   "id": "9de654f7",
   "metadata": {},
   "outputs": [
    {
     "name": "stdout",
     "output_type": "stream",
     "text": [
      "1\n",
      "2\n",
      "6\n",
      "24\n"
     ]
    },
    {
     "data": {
      "text/plain": [
       "24"
      ]
     },
     "execution_count": 15,
     "metadata": {},
     "output_type": "execute_result"
    }
   ],
   "source": [
    "newlist = [1,2,3,4]\n",
    "def mtply(angka):\n",
    "    hasil =1\n",
    "    for i in angka:\n",
    "        hasil = hasil* i\n",
    "    return hasil;\n",
    "\n",
    "mtply(newlist)"
   ]
  },
  {
   "cell_type": "code",
   "execution_count": 92,
   "id": "67e4b15d",
   "metadata": {},
   "outputs": [
    {
     "name": "stdout",
     "output_type": "stream",
     "text": [
      "gnitset"
     ]
    }
   ],
   "source": [
    "string = \"testing\"\n",
    "\n",
    "def revers(text):\n",
    "    a = len(text)\n",
    "    h = ''\n",
    "    while a !=0:\n",
    "        print(text[a-1],end='')\n",
    "        a -= 1\n",
    "    return;\n",
    "\n",
    "revers(string)"
   ]
  },
  {
   "cell_type": "code",
   "execution_count": 70,
   "id": "4ee9570e",
   "metadata": {},
   "outputs": [
    {
     "data": {
      "text/plain": [
       "'gnitset'"
      ]
     },
     "execution_count": 70,
     "metadata": {},
     "output_type": "execute_result"
    }
   ],
   "source": [
    "def rv(strng):\n",
    "    hasil =''\n",
    "    for i in stg:\n",
    "        hasil = i + hasil\n",
    "    return hasil\n",
    "\n",
    "stg = \"testing\"\n",
    "rv(str)"
   ]
  },
  {
   "cell_type": "code",
   "execution_count": null,
   "id": "397fd01f",
   "metadata": {},
   "outputs": [],
   "source": []
  }
 ],
 "metadata": {
  "kernelspec": {
   "display_name": "Python 3",
   "language": "python",
   "name": "python3"
  },
  "language_info": {
   "codemirror_mode": {
    "name": "ipython",
    "version": 3
   },
   "file_extension": ".py",
   "mimetype": "text/x-python",
   "name": "python",
   "nbconvert_exporter": "python",
   "pygments_lexer": "ipython3",
   "version": "3.8.8"
  }
 },
 "nbformat": 4,
 "nbformat_minor": 5
}
