{
 "cells": [
  {
   "cell_type": "code",
   "execution_count": null,
   "id": "fa32eb0a",
   "metadata": {},
   "outputs": [],
   "source": [
    "raining = False\n",
    "print(\"Let's go to the\", 'beach' if not raining else 'library')"
   ]
  },
  {
   "cell_type": "code",
   "execution_count": 65,
   "id": "1a577929",
   "metadata": {},
   "outputs": [
    {
     "name": "stdout",
     "output_type": "stream",
     "text": [
      "beli buku\n"
     ]
    },
    {
     "data": {
      "text/plain": [
       "6000"
      ]
     },
     "execution_count": 65,
     "metadata": {},
     "output_type": "execute_result"
    }
   ],
   "source": [
    "hargaBuku = 20000\n",
    "hargaMajalah = 5000\n",
    "uang = 26000\n",
    "\n",
    "if uang > hargaBuku:\n",
    "    uang = uang-hargaBuku\n",
    "    print(\"beli buku\")\n",
    "elif uang > hargaMajalah:\n",
    "    print(\"beli majalah\")\n",
    "else:\n",
    "    print(\"uang tidak cukup\")\n",
    "    \n",
    "uang\n"
   ]
  },
  {
   "cell_type": "code",
   "execution_count": 66,
   "id": "45befc41",
   "metadata": {},
   "outputs": [
    {
     "name": "stdout",
     "output_type": "stream",
     "text": [
      "7.75\n",
      "7.5\n",
      "7.25\n",
      "7.0\n",
      "6.75\n",
      "6.5\n",
      "6.25\n",
      "6.0\n",
      "5.75\n",
      "5.5\n",
      "5.25\n",
      "5.0\n",
      "4.75\n",
      "4.5\n",
      "4.25\n",
      "4.0\n",
      "3.75\n",
      "3.5\n",
      "3.25\n",
      "3.0\n",
      "2.75\n",
      "2.5\n",
      "2.25\n",
      "Loop ended.\n"
     ]
    }
   ],
   "source": [
    "n = 8\n",
    "while n > 0:\n",
    "    n -= 1/4\n",
    "    if n <= 2:\n",
    "        break # Break Statement\n",
    "    print(n)\n",
    "print('Loop ended.')"
   ]
  },
  {
   "cell_type": "code",
   "execution_count": 68,
   "id": "edaea4e3",
   "metadata": {},
   "outputs": [
    {
     "name": "stdout",
     "output_type": "stream",
     "text": [
      "foo\n"
     ]
    }
   ],
   "source": [
    "while True:\n",
    "    print('foo')\n",
    "    break"
   ]
  },
  {
   "cell_type": "code",
   "execution_count": 72,
   "id": "eaac75b9",
   "metadata": {},
   "outputs": [
    {
     "name": "stdout",
     "output_type": "stream",
     "text": [
      "barw\n",
      "> in baz\n",
      "> in qux\n",
      "barf\n",
      "> in baz\n",
      "> in qux\n",
      "bar\n",
      "> in baz\n",
      "> in qux\n",
      "foo\n",
      "> in baz\n",
      "> in qux\n"
     ]
    }
   ],
   "source": [
    "a = ['foo', 'bar' , 'barf', 'barw']\n",
    "\n",
    "while len(a):\n",
    "    print(a.pop(-1))\n",
    "    \n",
    "    b = ['baz', 'qux']\n",
    "    \n",
    "    while len(b):\n",
    "        print('> in', b.pop(0))"
   ]
  },
  {
   "cell_type": "code",
   "execution_count": 75,
   "id": "d573b688",
   "metadata": {},
   "outputs": [
    {
     "name": "stdout",
     "output_type": "stream",
     "text": [
      "foo\n",
      "bar\n",
      "baz\n"
     ]
    }
   ],
   "source": [
    "d = {'foo': 1, 'bar': 2, 'baz': 3}\n",
    "for fw in d:\n",
    "    print(fw)"
   ]
  },
  {
   "cell_type": "code",
   "execution_count": 79,
   "id": "d1b0cbfd",
   "metadata": {},
   "outputs": [
    {
     "name": "stdout",
     "output_type": "stream",
     "text": [
      "foo\n",
      "fofo\n",
      "qux\n"
     ]
    }
   ],
   "source": [
    "for i in ['foo', 'fofo', 'baz', 'qux']:\n",
    "    if 'b' in i:\n",
    "        continue\n",
    "    print(i)"
   ]
  },
  {
   "cell_type": "code",
   "execution_count": 88,
   "id": "08a903bf",
   "metadata": {},
   "outputs": [
    {
     "name": "stdout",
     "output_type": "stream",
     "text": [
      "Ketikan temperatur yang ingin dikonversi, eg. 45F, 120C: 33C\n",
      "Temperaturnya adalah 91 derajat\n"
     ]
    }
   ],
   "source": [
    "temp = input(\"Ketikan temperatur yang ingin dikonversi, eg. 45F, 120C: \")\n",
    "degree = int(temp[:-1])\n",
    "i_convertion = temp[-1]\n",
    "\n",
    "if i_convertion == \"C\":\n",
    "    result = int(round((9 * degree) / 5 + 32))\n",
    "elif i_convertion == \"F\":\n",
    "    result = int(round((degree - 32) * 5 / 9))\n",
    "else:\n",
    "    print(\"Masukan input yang benar\")\n",
    "\n",
    "print(\"Temperaturnya adalah\", result, \"derajat\")"
   ]
  },
  {
   "cell_type": "code",
   "execution_count": 84,
   "id": "1fb0b705",
   "metadata": {},
   "outputs": [
    {
     "name": "stdout",
     "output_type": "stream",
     "text": [
      "nama van\n"
     ]
    }
   ],
   "source": [
    "name = input(\"nama \")"
   ]
  },
  {
   "cell_type": "code",
   "execution_count": null,
   "id": "3bca16ba",
   "metadata": {},
   "outputs": [],
   "source": []
  }
 ],
 "metadata": {
  "kernelspec": {
   "display_name": "Python 3",
   "language": "python",
   "name": "python3"
  },
  "language_info": {
   "codemirror_mode": {
    "name": "ipython",
    "version": 3
   },
   "file_extension": ".py",
   "mimetype": "text/x-python",
   "name": "python",
   "nbconvert_exporter": "python",
   "pygments_lexer": "ipython3",
   "version": "3.8.8"
  }
 },
 "nbformat": 4,
 "nbformat_minor": 5
}
